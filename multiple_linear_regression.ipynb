{
  "nbformat": 4,
  "nbformat_minor": 0,
  "metadata": {
    "colab": {
      "name": "multiple_linear_regression.ipynb",
      "provenance": [],
      "collapsed_sections": []
    },
    "kernelspec": {
      "name": "python3",
      "display_name": "Python 3"
    }
  },
  "cells": [
    {
      "cell_type": "markdown",
      "metadata": {
        "id": "CazISR8X_HUG"
      },
      "source": [
        "# Multiple Linear Regression"
      ]
    },
    {
      "cell_type": "markdown",
      "metadata": {
        "id": "pOyqYHTk_Q57"
      },
      "source": [
        "## Importing the libraries"
      ]
    },
    {
      "cell_type": "code",
      "metadata": {
        "id": "T_YHJjnD_Tja"
      },
      "source": [
        "import numpy as np\n",
        "import matplotlib.pyplot as plt\n",
        "import pandas as pd"
      ],
      "execution_count": 1,
      "outputs": []
    },
    {
      "cell_type": "code",
      "metadata": {
        "id": "YVVAHpSvoAIY",
        "outputId": "8343fd12-8082-4a6e-bd22-1cd8b76bf279",
        "colab": {
          "base_uri": "https://localhost:8080/",
          "height": 34
        }
      },
      "source": [
        "from google.colab import drive\n",
        "drive.mount('/content/gdrive')"
      ],
      "execution_count": 2,
      "outputs": [
        {
          "output_type": "stream",
          "text": [
            "Mounted at /content/gdrive\n"
          ],
          "name": "stdout"
        }
      ]
    },
    {
      "cell_type": "markdown",
      "metadata": {
        "id": "vgC61-ah_WIz"
      },
      "source": [
        "## Importing the dataset"
      ]
    },
    {
      "cell_type": "code",
      "metadata": {
        "id": "UrxyEKGn_ez7"
      },
      "source": [
        "dataset = pd.read_csv('/content/gdrive/My Drive/Colab Notebooks/kc_house_data.csv')\n",
        "X = dataset.iloc[:, 3:-1].values\n",
        "y = dataset.iloc[:, 2].values"
      ],
      "execution_count": 3,
      "outputs": []
    },
    {
      "cell_type": "code",
      "metadata": {
        "id": "hfjNsjSfwPXg",
        "outputId": "b3219c24-4cca-4823-f933-b40eaa74c86f",
        "colab": {
          "base_uri": "https://localhost:8080/",
          "height": 235
        }
      },
      "source": [
        "print(X)"
      ],
      "execution_count": 4,
      "outputs": [
        {
          "output_type": "stream",
          "text": [
            "[[ 3.00000e+00  1.00000e+00  1.18000e+03 ...  4.75112e+01 -1.22257e+02\n",
            "   1.34000e+03]\n",
            " [ 3.00000e+00  2.25000e+00  2.57000e+03 ...  4.77210e+01 -1.22319e+02\n",
            "   1.69000e+03]\n",
            " [ 2.00000e+00  1.00000e+00  7.70000e+02 ...  4.77379e+01 -1.22233e+02\n",
            "   2.72000e+03]\n",
            " ...\n",
            " [ 2.00000e+00  7.50000e-01  1.02000e+03 ...  4.75944e+01 -1.22299e+02\n",
            "   1.02000e+03]\n",
            " [ 3.00000e+00  2.50000e+00  1.60000e+03 ...  4.75345e+01 -1.22069e+02\n",
            "   1.41000e+03]\n",
            " [ 2.00000e+00  7.50000e-01  1.02000e+03 ...  4.75941e+01 -1.22299e+02\n",
            "   1.02000e+03]]\n"
          ],
          "name": "stdout"
        }
      ]
    },
    {
      "cell_type": "markdown",
      "metadata": {
        "id": "WemVnqgeA70k"
      },
      "source": [
        "## Splitting the dataset into the Training set and Test set"
      ]
    },
    {
      "cell_type": "code",
      "metadata": {
        "id": "Kb_v_ae-A-20"
      },
      "source": [
        "from sklearn.model_selection import train_test_split\n",
        "X_train, X_test, y_train, y_test = train_test_split(X, y, test_size = 0.2, random_state = 0)"
      ],
      "execution_count": 5,
      "outputs": []
    },
    {
      "cell_type": "code",
      "metadata": {
        "id": "NFd6SUzAwZLH",
        "outputId": "6f689293-bef8-4b17-c57e-c2f03d476e23",
        "colab": {
          "base_uri": "https://localhost:8080/",
          "height": 235
        }
      },
      "source": [
        "print(X_train)"
      ],
      "execution_count": 6,
      "outputs": [
        {
          "output_type": "stream",
          "text": [
            "[[ 3.00000e+00  1.00000e+00  1.57000e+03 ...  4.76942e+01 -1.22319e+02\n",
            "   1.77000e+03]\n",
            " [ 3.00000e+00  2.50000e+00  1.78000e+03 ...  4.75574e+01 -1.22149e+02\n",
            "   2.31000e+03]\n",
            " [ 3.00000e+00  1.50000e+00  1.09000e+03 ...  4.76256e+01 -1.22036e+02\n",
            "   1.71000e+03]\n",
            " ...\n",
            " [ 3.00000e+00  2.25000e+00  2.36000e+03 ...  4.73856e+01 -1.22158e+02\n",
            "   2.72000e+03]\n",
            " [ 4.00000e+00  2.00000e+00  2.37000e+03 ...  4.72831e+01 -1.22279e+02\n",
            "   2.11000e+03]\n",
            " [ 4.00000e+00  2.25000e+00  2.38000e+03 ...  4.76126e+01 -1.22120e+02\n",
            "   2.23000e+03]]\n"
          ],
          "name": "stdout"
        }
      ]
    },
    {
      "cell_type": "code",
      "metadata": {
        "id": "xANMaXb3wdqP",
        "outputId": "ea958a7f-9cff-4099-a9d6-f954c95ea02d",
        "colab": {
          "base_uri": "https://localhost:8080/",
          "height": 235
        }
      },
      "source": [
        "print(X_test)"
      ],
      "execution_count": 7,
      "outputs": [
        {
          "output_type": "stream",
          "text": [
            "[[ 2.00000e+00  1.50000e+00  1.43000e+03 ...  4.77222e+01 -1.22290e+02\n",
            "   1.43000e+03]\n",
            " [ 4.00000e+00  3.25000e+00  4.67000e+03 ...  4.76350e+01 -1.22164e+02\n",
            "   4.23000e+03]\n",
            " [ 2.00000e+00  7.50000e-01  1.44000e+03 ...  4.76707e+01 -1.22364e+02\n",
            "   1.44000e+03]\n",
            " ...\n",
            " [ 3.00000e+00  2.50000e+00  1.36000e+03 ...  4.76827e+01 -1.22097e+02\n",
            "   1.09000e+03]\n",
            " [ 3.00000e+00  1.00000e+00  9.50000e+02 ...  4.75236e+01 -1.22348e+02\n",
            "   1.08000e+03]\n",
            " [ 3.00000e+00  2.25000e+00  1.64000e+03 ...  4.76252e+01 -1.22104e+02\n",
            "   1.62000e+03]]\n"
          ],
          "name": "stdout"
        }
      ]
    },
    {
      "cell_type": "code",
      "metadata": {
        "id": "RN99AXqowg9i",
        "outputId": "6f347d9f-6a17-4a81-b9fb-dc1e38f7d078",
        "colab": {
          "base_uri": "https://localhost:8080/",
          "height": 34
        }
      },
      "source": [
        "print(y_train)"
      ],
      "execution_count": 8,
      "outputs": [
        {
          "output_type": "stream",
          "text": [
            "[495000. 635000. 382500. ... 431000. 411000. 699900.]\n"
          ],
          "name": "stdout"
        }
      ]
    },
    {
      "cell_type": "code",
      "metadata": {
        "id": "kekGgu7wwkPH",
        "outputId": "81f2d2c8-7fcb-4c22-936d-f61866377a3e",
        "colab": {
          "base_uri": "https://localhost:8080/",
          "height": 34
        }
      },
      "source": [
        "print(y_test)"
      ],
      "execution_count": 9,
      "outputs": [
        {
          "output_type": "stream",
          "text": [
            "[ 297000. 1578000.  562100. ...  369950.  300000.  575950.]\n"
          ],
          "name": "stdout"
        }
      ]
    },
    {
      "cell_type": "markdown",
      "metadata": {
        "id": "k-McZVsQBINc"
      },
      "source": [
        "## Training the Multiple Linear Regression model on the Training set"
      ]
    },
    {
      "cell_type": "code",
      "metadata": {
        "id": "ywPjx0L1BMiD",
        "outputId": "de529cce-30f4-4d10-af70-a493c904bf6b",
        "colab": {
          "base_uri": "https://localhost:8080/",
          "height": 34
        }
      },
      "source": [
        "from sklearn.linear_model import LinearRegression\n",
        "regressor = LinearRegression()\n",
        "regressor.fit(X_train, y_train)"
      ],
      "execution_count": 10,
      "outputs": [
        {
          "output_type": "execute_result",
          "data": {
            "text/plain": [
              "LinearRegression(copy_X=True, fit_intercept=True, n_jobs=None, normalize=False)"
            ]
          },
          "metadata": {
            "tags": []
          },
          "execution_count": 10
        }
      ]
    },
    {
      "cell_type": "code",
      "metadata": {
        "id": "tRrvATkc1g-X",
        "outputId": "18fabe63-e31f-4a15-ba75-f8b7685838fa",
        "colab": {
          "base_uri": "https://localhost:8080/",
          "height": 34
        }
      },
      "source": [
        "print(regressor.score(X_test, y_test))"
      ],
      "execution_count": 11,
      "outputs": [
        {
          "output_type": "stream",
          "text": [
            "0.6953866985669479\n"
          ],
          "name": "stdout"
        }
      ]
    },
    {
      "cell_type": "markdown",
      "metadata": {
        "id": "xNkXL1YQBiBT"
      },
      "source": [
        "## Predicting the Test set results"
      ]
    },
    {
      "cell_type": "code",
      "metadata": {
        "id": "TQKmwvtdBkyb",
        "outputId": "cabe76c6-0225-4802-862c-244f747f1082",
        "colab": {
          "base_uri": "https://localhost:8080/",
          "height": 134
        }
      },
      "source": [
        "y_pred = regressor.predict(X_test)\n",
        "np.set_printoptions(precision=2)\n",
        "print(np.concatenate((y_pred.reshape(len(y_pred),1), y_test.reshape(len(y_test),1)),1))"
      ],
      "execution_count": 12,
      "outputs": [
        {
          "output_type": "stream",
          "text": [
            "[[ 377997.1   297000.  ]\n",
            " [1541824.72 1578000.  ]\n",
            " [ 543816.19  562100.  ]\n",
            " ...\n",
            " [ 359260.76  369950.  ]\n",
            " [ 207538.1   300000.  ]\n",
            " [ 433769.56  575950.  ]]\n"
          ],
          "name": "stdout"
        }
      ]
    },
    {
      "cell_type": "markdown",
      "metadata": {
        "id": "50DZZy0UyhLi"
      },
      "source": [
        "## Evaluating the Model Performance"
      ]
    },
    {
      "cell_type": "code",
      "metadata": {
        "id": "xPagAOKDywV4",
        "outputId": "5586ab8c-3886-4cda-ebe5-29fe5a2c9d21",
        "colab": {
          "base_uri": "https://localhost:8080/",
          "height": 34
        }
      },
      "source": [
        "from sklearn.metrics import r2_score\n",
        "r2_score(y_test, y_pred)"
      ],
      "execution_count": 13,
      "outputs": [
        {
          "output_type": "execute_result",
          "data": {
            "text/plain": [
              "0.6953866985669479"
            ]
          },
          "metadata": {
            "tags": []
          },
          "execution_count": 13
        }
      ]
    }
  ]
}